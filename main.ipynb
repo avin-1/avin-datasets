{
 "cells": [
  {
   "cell_type": "code",
   "execution_count": 1,
   "id": "8f06952f",
   "metadata": {},
   "outputs": [
    {
     "name": "stdout",
     "output_type": "stream",
     "text": [
      "['ar_index_global_meta.txt', 'ar_index_global_meta.txt.gz', 'ar_index_global_prof.txt', 'ar_index_global_prof.txt.gz', 'ar_index_global_tech.txt', 'ar_index_global_tech.txt.gz', 'ar_index_global_traj.txt', 'ar_index_global_traj.txt.gz', 'ar_index_this_week_meta.txt', 'ar_index_this_week_prof.txt', 'argo_bio-profile_index.txt', 'argo_bio-profile_index.txt.gz', 'argo_bio-traj_index.txt', 'argo_bio-traj_index.txt.gz', 'argo_synthetic-profile_index.txt', 'argo_synthetic-profile_index.txt.gz', 'aux', 'dac', 'etc', 'geo']\n"
     ]
    },
    {
     "data": {
      "text/plain": [
       "'221 Goodbye.'"
      ]
     },
     "execution_count": 1,
     "metadata": {},
     "output_type": "execute_result"
    }
   ],
   "source": [
    "from ftplib import FTP\n",
    "\n",
    "ftp = FTP('ftp.ifremer.fr')\n",
    "ftp.login()  # anonymous login\n",
    "ftp.cwd('/ifremer/argo')\n",
    "print(ftp.nlst()[:20])  # list first 20 files/directories\n",
    "ftp.quit()\n"
   ]
  }
 ],
 "metadata": {
  "kernelspec": {
   "display_name": "venv",
   "language": "python",
   "name": "python3"
  },
  "language_info": {
   "codemirror_mode": {
    "name": "ipython",
    "version": 3
   },
   "file_extension": ".py",
   "mimetype": "text/x-python",
   "name": "python",
   "nbconvert_exporter": "python",
   "pygments_lexer": "ipython3",
   "version": "3.13.5"
  }
 },
 "nbformat": 4,
 "nbformat_minor": 5
}
